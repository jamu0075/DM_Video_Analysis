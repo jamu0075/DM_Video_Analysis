{
 "cells": [
  {
   "cell_type": "code",
   "execution_count": 20,
   "metadata": {},
   "outputs": [
    {
     "name": "stdout",
     "output_type": "stream",
     "text": [
      "163161.74553762504\n",
      "142564.45993506617\n",
      "148149.68877178925\n"
     ]
    }
   ],
   "source": [
    "import pandas as pd\n",
    "import matplotlib.pyplot as plt\n",
    "import numpy as np\n",
    "\n",
    "indonesia_df = pd.read_csv('Indonesia_Raw.txt', header=None).iloc[1:]\n",
    "nyc_df = pd.read_csv('NYC_Traffic.txt', header=None).iloc[1:]\n",
    "port_df = pd.read_csv('Port_Nassau.txt', header=None).iloc[1:]\n",
    "\n",
    "print(np.mean(indonesia_df[0]))\n",
    "print(np.mean(nyc_df[0]))\n",
    "print(np.mean(port_df[0]))\n",
    "#plt.hist(indonesia_df)\n",
    "#plt.hist(nyc_df)\n",
    "#plt.hist(port_df)\n",
    "#plt.show()"
   ]
  },
  {
   "cell_type": "code",
   "execution_count": null,
   "metadata": {
    "collapsed": true
   },
   "outputs": [],
   "source": []
  }
 ],
 "metadata": {
  "kernelspec": {
   "display_name": "Python 3",
   "language": "python",
   "name": "python3"
  },
  "language_info": {
   "codemirror_mode": {
    "name": "ipython",
    "version": 3
   },
   "file_extension": ".py",
   "mimetype": "text/x-python",
   "name": "python",
   "nbconvert_exporter": "python",
   "pygments_lexer": "ipython3",
   "version": "3.6.3"
  }
 },
 "nbformat": 4,
 "nbformat_minor": 2
}
